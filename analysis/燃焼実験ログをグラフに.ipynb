{
 "cells": [
  {
   "cell_type": "markdown",
   "id": "df3a923a",
   "metadata": {},
   "source": [
    "# 燃焼実験のログを取る"
   ]
  },
  {
   "cell_type": "markdown",
   "id": "80b62c35",
   "metadata": {},
   "source": [
    "燃焼実験で取ったログの生データから単位付きの値に変換して簡単なグラフにするまでの処理です   \n",
    "このファイルを実行するには、Pythonの環境が必要です。colabやJupyter Notebookで実行しましょう。  \n",
    "by michael  "
   ]
  },
  {
   "cell_type": "code",
   "execution_count": null,
   "id": "7f270f06",
   "metadata": {},
   "outputs": [],
   "source": [
    "inputfilepath=\"C:\\\\n0628\\\\1658-bento\\\\LOG-0000001.csv\"# ここを変えて使います /でも //でも\\でもエラーになるみたいなのでフォルダの区切りは\\\\でやります\n",
    "outputfilepath=inputfilepath.replace(\".csv\",\"-newconverted.csv\")"
   ]
  },
  {
   "cell_type": "markdown",
   "id": "765bce27",
   "metadata": {},
   "source": [
    "# analysis.py"
   ]
  },
  {
   "cell_type": "markdown",
   "id": "f67c9429",
   "metadata": {},
   "source": [
    "YutoGCNさん作のプログラムです。一番下の行のmain()の引数をいじって使います。\n",
    "第一引数が読み込むファイルのパス、第二引数が出力するファイルのパスです。\n",
    "このコードで変換した後のデータを推進も電装もいじくることになります。"
   ]
  },
  {
   "cell_type": "code",
   "execution_count": null,
   "id": "517d1b61",
   "metadata": {},
   "outputs": [],
   "source": [
    "#!/usr/bin/env python\n",
    "\n",
    "# -*- coding: utf-8 -*-\n",
    "\n",
    "import csv\n",
    "import sys\n",
    "import math\n",
    "\n",
    "voltageref5v = 4.99\n",
    "\n",
    "def main(source,target):\n",
    "    with open(source) as fr:\n",
    "        reader = csv.reader(fr)\n",
    "        with open(target, 'w', encoding='utf_8_sig',newline=\"\") as fw:\n",
    "             writer = csv.writer(fw)\n",
    "             writer.writerow(['書き込み待ちデータ数','データ取得開始時','データ取得終了時','推力[N]','圧力1[Pa]','圧力2[Pa]','圧力3[Pa]','圧力4[Pa]','低域温度1','低域温度2','低域温度3','高域温度1','高域温度2'])\n",
    "             for row in reader:\n",
    "                # 1行ずつ読み込み\n",
    "                writer.writerow([row[0],row[1],row[2],str(bin2ThrustTest4(int(row[3]))),str(bin2dataPressure(int(row[5]))),str(bin2dataPressure(int(row[6]))),str(bin2dataPressure(int(row[7]))),str(bin2dataPressure(int(row[8]))),str(bin2dataTempLow(int(row[11]))),str(bin2dataTempLow(int(row[12]))),str(bin2dataTempLow2(int(row[13]))),str(bin2dataTempHigh(int(row[14]))),str(bin2dataTempHigh(int(row[15]))),row[19]])\n",
    "                #この行で使う関数を決めています。とくにbin2ThrustTestは1,2,3,4があり、1,2は旧ロードセル、3,4は新ロードセルに対応しています。\n",
    "    \n",
    "\n",
    "def bin2ADCvoltage(binary):\n",
    "    return voltageref5v * float(binary) / 4096\n",
    "\n",
    "'''\n",
    "理論値\n",
    "250lbf = 1112.06 N について，5.1* 20 * 1e-3 V の出力が得られる\n",
    "'''\n",
    "def bin2Thrust(binary):\n",
    "    sensorOutputVoltage = bin2ADCvoltage(binary)/47.0\n",
    "    return 1112.06 * sensorOutputVoltage / (voltageref5v * 20.0 * 1e-3) # N\n",
    "\n",
    "'''\n",
    "実験値\n",
    "ADCの値 x に対して，力 y[N] は，y = 0.5952 * x - 20.177\n",
    "'''\n",
    "def bin2ThrustTest1(binary):\n",
    "    return 0.5952 * binary - 20.177\n",
    "\n",
    "def bin2ThrustTest2(binary):\n",
    "    return 0.5807 * binary - 24.098\n",
    "def bin2ThrustTest3(binary): #ナメた方法でやった時の校正値\n",
    "    return 2.4699*binary-126.66\n",
    "def bin2ThrustTest4(binary): #コンクリブロック法でやった時の校正値\n",
    "    return 2.3896*binary-115.47\n",
    "\n",
    "def bin2dataPressure(binary):\n",
    "    sensorOutputVoltage = 2.0 * bin2ADCvoltage(binary)\n",
    "    return sensorOutputVoltage * 1e6 # Nm^-2\n",
    "\n",
    "def bin2dataTempHigh(binary):\n",
    "    R = 10000\n",
    "    return bin2dataTemp(binary,R)\n",
    "\n",
    "def bin2dataTempLow(binary):\n",
    "    R = 100\n",
    "    return bin2dataTemp(binary,R)\n",
    "\n",
    "def bin2dataTempLow2(binary):\n",
    "    R=100\n",
    "    return bin2dataTempNew(binary,R)\n",
    "\n",
    "def bin2dataTemp(binary,R):\n",
    "    # サーミスタの抵抗値を計算\n",
    "    v = bin2ADCvoltage(binary)\n",
    "    R_T = R * v / (voltageref5v -v)\n",
    "\n",
    "    if R_T == 0:\n",
    "        return 0\n",
    "\n",
    "    # サーミスタの抵抗値から温度を計算\n",
    "    B = 3435 # B係数\n",
    "    R0 = 10000\n",
    "    T0 = 25 + 273.15\n",
    "\n",
    "    T = 1/(1/B * math.log(R_T/R0)+ 1/T0)\n",
    "    T -= 273.15\n",
    "    return T\n",
    "def bin2dataTempNew(binary,R):\n",
    "    # サーミスタの抵抗値を計算\n",
    "    v = bin2ADCvoltage(binary)\n",
    "    R_T = R * v / (voltageref5v -v)\n",
    "\n",
    "    if R_T == 0:\n",
    "        return 0\n",
    "\n",
    "    # サーミスタの抵抗値から温度を計算\n",
    "    B = 4126 # B係数\n",
    "    R0 = 10000\n",
    "    T0 = 25 + 273.15\n",
    "\n",
    "    T = 1/(1/B * math.log(R_T/R0)+ 1/T0)\n",
    "    T -= 273.15\n",
    "    return T\n",
    "\n",
    "'''\n",
    "def bin2dataTemp(binary,R):\n",
    "    if(binary == 0):\n",
    "        return -273\n",
    "    Voltage = bin2ADCvoltage(binary)\n",
    "    return 1/(1/(25+273)+math.log(((Voltage/(5.1-Voltage))*R)/10000)/4126)-273\n",
    "'''\n",
    "\n",
    "#if __name__ == \"__main__\":\n",
    "#    args = sys.argv\n",
    "main(inputfilepath,outputfilepath)"
   ]
  },
  {
   "cell_type": "markdown",
   "id": "37714cdc",
   "metadata": {},
   "source": [
    "### インポート（このコードを動かす前にpandasとmatplotlibを入れてください）"
   ]
  },
  {
   "cell_type": "markdown",
   "id": "89385735",
   "metadata": {},
   "source": [
    "colabなら以下のコードをセルに入れて実行してください。  \n",
    "```python\n",
    "!pip install pandas matplotlib\n",
    "```\n",
    "コードの詳細はpandasやmatplotlibの使い方をググってください。"
   ]
  },
  {
   "cell_type": "code",
   "execution_count": null,
   "id": "ab7ca6b9-4f9f-40de-a567-b9272c03063d",
   "metadata": {},
   "outputs": [],
   "source": [
    "import pandas as pd\n",
    "import matplotlib as plt\n",
    "plt.rcParams['font.family'] = \"MS Gothic\" # 日本語フォントを指定"
   ]
  },
  {
   "cell_type": "markdown",
   "id": "e50b81d4",
   "metadata": {},
   "source": [
    "### 変数dataに読み込み"
   ]
  },
  {
   "cell_type": "markdown",
   "id": "298a288b",
   "metadata": {},
   "source": [
    "ここの表の見出しを覚えておいて後で使います。indexの行は実質的にはindexではなくなっています"
   ]
  },
  {
   "cell_type": "code",
   "execution_count": null,
   "id": "88f95495-0773-4583-be4b-df14ca748b46",
   "metadata": {
    "scrolled": true
   },
   "outputs": [],
   "source": [
    "data=pd.read_csv(outputfilepath,header=0)\n",
    "data.reset_index(inplace=True)\n",
    "data=data.shift(axis=1)\n",
    "data.drop(columns=\"index\")\n",
    "data[\"index\"]=0\n",
    "print(data)"
   ]
  },
  {
   "cell_type": "markdown",
   "id": "d4754f3a",
   "metadata": {},
   "source": [
    "以下　このデータをいじくってグラフにしたりします"
   ]
  },
  {
   "cell_type": "markdown",
   "id": "0808f53b",
   "metadata": {},
   "source": [
    "### データの編集（例）"
   ]
  },
  {
   "cell_type": "markdown",
   "id": "849e511e",
   "metadata": {},
   "source": [
    "推力が最大値の0.05倍以下の点のみをプロット、ファイルに出力(このファイルを推進に渡すとよいでしょう)"
   ]
  },
  {
   "cell_type": "code",
   "execution_count": null,
   "id": "38ad1601-e2e1-45b0-81e9-c76e148ba887",
   "metadata": {},
   "outputs": [],
   "source": [
    "tcutdata=data[(data[\"推力[N]\"]>data[\"推力[N]\"].max()*0.11)]\n",
    "tcutdata.plot(y='7推力[N]',x='データ取得開始時',kind='scatter',xlabel='time',ylabel='thrust')\n",
    "tcutdata.to_csv(\"20250331output2SJIS.csv\",encoding=\"SHIFT-JIS\") #ファイル出力です、このファイルと同じディレクトリに吐き出されます"
   ]
  },
  {
   "cell_type": "markdown",
   "id": "ab79bd0c",
   "metadata": {},
   "source": [
    "温度のグラフをプロット"
   ]
  },
  {
   "cell_type": "code",
   "execution_count": null,
   "id": "8291b0eb",
   "metadata": {},
   "outputs": [],
   "source": [
    "\n",
    "data.plot(y='低域温度1',x='データ取得開始時',kind='scatter',xlabel='time',ylabel='低域温度1')"
   ]
  },
  {
   "cell_type": "markdown",
   "id": "81da1b65",
   "metadata": {},
   "source": [
    "データを時間で切り抜き、プロット、ファイルに出力"
   ]
  },
  {
   "cell_type": "code",
   "execution_count": null,
   "id": "332e68c3-bf88-4bd5-abae-275e4a1d83b2",
   "metadata": {},
   "outputs": [],
   "source": [
    "cutdata=data.loc[(data[\"データ取得開始時\"]>0)]# 時間で切るときはこんな感じです\n",
    "cutdata.plot(y='圧力4[Pa]',x='データ取得開始時',kind='scatter',xlabel='time',ylabel='pressure')\n",
    "cutdata.to_csv(\"output2SJIS.csv\",encoding=\"SHIFT-JIS\") "
   ]
  }
 ],
 "metadata": {
  "kernelspec": {
   "display_name": "DSAI",
   "language": "python",
   "name": "python3"
  },
  "language_info": {
   "codemirror_mode": {
    "name": "ipython",
    "version": 3
   },
   "file_extension": ".py",
   "mimetype": "text/x-python",
   "name": "python",
   "nbconvert_exporter": "python",
   "pygments_lexer": "ipython3",
   "version": "3.11.9"
  }
 },
 "nbformat": 4,
 "nbformat_minor": 5
}
